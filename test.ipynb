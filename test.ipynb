{
 "cells": [
  {
   "cell_type": "code",
   "execution_count": 132,
   "outputs": [
    {
     "name": "stdout",
     "output_type": "stream",
     "text": [
      "The autoreload extension is already loaded. To reload it, use:\n",
      "  %reload_ext autoreload\n"
     ]
    }
   ],
   "source": [
    "%load_ext autoreload\n",
    "%autoreload 2\n",
    "from OmegaGomoku import *\n",
    "import numpy as np\n",
    "import torch"
   ],
   "metadata": {
    "collapsed": false,
    "ExecuteTime": {
     "end_time": "2023-05-23T14:29:20.329046100Z",
     "start_time": "2023-05-23T14:29:20.173812700Z"
    }
   }
  },
  {
   "cell_type": "code",
   "execution_count": 88,
   "outputs": [],
   "source": [
    "board_size = 4\n",
    "\n",
    "\n",
    "def gen_random_state() -> np.ndarray:\n",
    "    board = np.random.randint(0, 3, size=(board_size, board_size))\n",
    "    return np.array((np.where(board == 2, 0, board), np.where(board == 1, 0, board)))\n",
    "\n",
    "\n",
    "def gen_random_action_value() -> np.ndarray:\n",
    "    return np.random.uniform(-1, 1, size=board_size ** 2)\n",
    "\n",
    "\n",
    "def gen_random_memory_entry() -> MemoryEntry:\n",
    "    is_done = np.random.random() < 0.3\n",
    "    return MemoryEntry(\n",
    "        state=gen_random_state(),\n",
    "        next_state=gen_random_state() if not is_done else None,\n",
    "        action=np.random.randint(0, board_size ** 2),\n",
    "        reward=np.random.randint(-200, 200 + 1),\n",
    "        is_done=is_done\n",
    "    )"
   ],
   "metadata": {
    "collapsed": false,
    "ExecuteTime": {
     "end_time": "2023-05-23T13:29:07.118855500Z",
     "start_time": "2023-05-23T13:29:06.975093300Z"
    }
   }
  },
  {
   "cell_type": "code",
   "execution_count": 96,
   "outputs": [],
   "source": [
    "memory = Memory(1000)\n",
    "_ = [memory.push(*gen_random_memory_entry()) for _ in range(1001)]"
   ],
   "metadata": {
    "collapsed": false,
    "ExecuteTime": {
     "end_time": "2023-05-23T13:35:16.864484300Z",
     "start_time": "2023-05-23T13:35:16.695110100Z"
    }
   }
  },
  {
   "cell_type": "code",
   "execution_count": null,
   "outputs": [],
   "source": [
    "batch = memory.sample(10)\n",
    "batch = MemoryEntry(*zip(*batch))\n",
    "print(batch)\n",
    "non_final_mask = tuple(not i for i in batch.is_done)\n",
    "non_final_next_states =  #%%\n",
    "%load_ext autoreload\n",
    "%autoreload 2\n",
    "from OmegaGomoku import *\n",
    "import numpy as np"
   ],
   "metadata": {
    "collapsed": false
   }
  },
  {
   "cell_type": "code",
   "execution_count": null,
   "outputs": [],
   "source": [
    "board_size = 4\n",
    "\n",
    "\n",
    "def gen_random_state() -> np.ndarray:\n",
    "    board = np.random.randint(0, 3, size=(board_size, board_size))\n",
    "    return np.array((np.where(board == 2, 0, board), np.where(board == 1, 0, board)))\n",
    "\n",
    "\n",
    "def gen_random_action_value() -> np.ndarray:\n",
    "    return np.random.uniform(-1, 1, size=board_size ** 2)\n",
    "\n",
    "\n",
    "def gen_random_memory_entry() -> MemoryEntry:\n",
    "    is_done = np.random.random() < 0.3\n",
    "    return MemoryEntry(\n",
    "        state=gen_random_state(),\n",
    "        next_state=gen_random_state() if not is_done else None,\n",
    "        action=np.random.randint(0, board_size ** 2),\n",
    "        reward=np.random.randint(-200, 200 + 1),\n",
    "        is_done=is_done\n",
    "    )"
   ],
   "metadata": {
    "collapsed": false
   }
  },
  {
   "cell_type": "code",
   "execution_count": null,
   "outputs": [],
   "source": [
    "memory = Memory(1000)\n",
    "_ = [memory.push(*gen_random_memory_entry()) for _ in range(1001)]"
   ],
   "metadata": {
    "collapsed": false
   }
  },
  {
   "cell_type": "code",
   "execution_count": 142,
   "outputs": [],
   "source": [
    "batch = memory.sample(10)\n",
    "batch = MemoryEntry(*zip(*batch))\n",
    "non_final_mask = tuple(not i for i in batch.is_done)\n",
    "non_final_next_states = np.array(tuple(i for i in batch.next_state if i is not None))\n",
    "states = np.array(batch.state)\n",
    "actions = np.array(batch.action)\n",
    "rewards = np.array(batch.reward)\n",
    "\n",
    "q_actions_value = gen_random_action_value()\n"
   ],
   "metadata": {
    "collapsed": false
   }
  },
  {
   "cell_type": "code",
   "execution_count": null,
   "outputs": [],
   "source": [],
   "metadata": {
    "collapsed": false
   }
  }
 ],
 "metadata": {
  "kernelspec": {
   "display_name": "Python 3",
   "language": "python",
   "name": "python3"
  },
  "language_info": {
   "codemirror_mode": {
    "name": "ipython",
    "version": 2
   },
   "file_extension": ".py",
   "mimetype": "text/x-python",
   "name": "python",
   "nbconvert_exporter": "python",
   "pygments_lexer": "ipython2",
   "version": "2.7.6"
  }
 },
 "nbformat": 4,
 "nbformat_minor": 0
}
