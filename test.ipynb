{
 "cells": [
  {
   "cell_type": "code",
   "execution_count": 1,
   "outputs": [],
   "source": [
    "%load_ext autoreload\n",
    "%autoreload 2\n",
    "from OmegaGomoku import *"
   ],
   "metadata": {
    "collapsed": false,
    "ExecuteTime": {
     "end_time": "2023-05-16T13:59:37.078827600Z",
     "start_time": "2023-05-16T13:59:35.026662500Z"
    }
   }
  },
  {
   "cell_type": "code",
   "execution_count": 11,
   "outputs": [
    {
     "name": "stdout",
     "output_type": "stream",
     "text": [
      ". O . . . \n",
      ". . . . . \n",
      ". . . . . \n",
      ". . . . . \n",
      ". . . . . \n",
      "\n",
      "该步着子的奖励：0\n",
      ". O X . . \n",
      ". . . . . \n",
      ". . . . . \n",
      ". . . . . \n",
      ". . . . . \n",
      "\n",
      "该步着子的奖励：10\n"
     ]
    }
   ],
   "source": [
    "# 测试Check win\n",
    "env = GomokuEnv(5, 4)\n",
    "# print(beautify_step_result(*env.step((3, 3))))\n",
    "# print(beautify_step_result(*env.step((3, 2))))\n",
    "# print(beautify_step_result(*env.step((0, 1))))\n",
    "# print(beautify_step_result(*env.step((3, 4))))\n",
    "# print(beautify_step_result(*env.step((0, 2))))\n",
    "# print(beautify_step_result(*env.step((2, 4))))\n",
    "# print(beautify_step_result(*env.step((0, 3))))\n",
    "# print(beautify_step_result(*env.step((4, 2))))\n",
    "# print(beautify_step_result(*env.step((0, 4))))\n",
    "\n",
    "print(beautify_step_result(*env.step((0, 1))))\n",
    "print(beautify_step_result(*env.step((0, 2))))\n"
   ],
   "metadata": {
    "collapsed": false,
    "ExecuteTime": {
     "end_time": "2023-05-16T14:09:01.851318800Z",
     "start_time": "2023-05-16T14:09:01.702236700Z"
    }
   }
  }
 ],
 "metadata": {
  "kernelspec": {
   "display_name": "Python 3",
   "language": "python",
   "name": "python3"
  },
  "language_info": {
   "codemirror_mode": {
    "name": "ipython",
    "version": 2
   },
   "file_extension": ".py",
   "mimetype": "text/x-python",
   "name": "python",
   "nbconvert_exporter": "python",
   "pygments_lexer": "ipython2",
   "version": "2.7.6"
  }
 },
 "nbformat": 4,
 "nbformat_minor": 0
}
